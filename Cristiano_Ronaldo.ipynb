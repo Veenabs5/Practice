{
 "cells": [
  {
   "cell_type": "code",
   "execution_count": 77,
   "id": "e9b5c454",
   "metadata": {},
   "outputs": [],
   "source": [
    "import pandas as pd\n",
    "import numpy as np\n",
    "import pandas_profiling\n",
    "import matplotlib.pyplot as plt\n"
   ]
  },
  {
   "cell_type": "code",
   "execution_count": 80,
   "id": "3835f762",
   "metadata": {},
   "outputs": [],
   "source": [
    "df=pd.read_csv(\"https://raw.githubusercontent.com/iNeuronai/EDACollection/master/Cristiano_Ronaldo/yds_data.csv\")"
   ]
  },
  {
   "cell_type": "code",
   "execution_count": 83,
   "id": "177f606d",
   "metadata": {},
   "outputs": [],
   "source": [
    "df2=df.copy()"
   ]
  },
  {
   "cell_type": "code",
   "execution_count": 86,
   "id": "aafbc9b9",
   "metadata": {},
   "outputs": [
    {
     "data": {
      "text/html": [
       "<div>\n",
       "<style scoped>\n",
       "    .dataframe tbody tr th:only-of-type {\n",
       "        vertical-align: middle;\n",
       "    }\n",
       "\n",
       "    .dataframe tbody tr th {\n",
       "        vertical-align: top;\n",
       "    }\n",
       "\n",
       "    .dataframe thead th {\n",
       "        text-align: right;\n",
       "    }\n",
       "</style>\n",
       "<table border=\"1\" class=\"dataframe\">\n",
       "  <thead>\n",
       "    <tr style=\"text-align: right;\">\n",
       "      <th></th>\n",
       "      <th>Unnamed: 0</th>\n",
       "      <th>match_event_id</th>\n",
       "      <th>location_x</th>\n",
       "      <th>location_y</th>\n",
       "      <th>remaining_min</th>\n",
       "      <th>power_of_shot</th>\n",
       "      <th>knockout_match</th>\n",
       "      <th>game_season</th>\n",
       "      <th>remaining_sec</th>\n",
       "      <th>distance_of_shot</th>\n",
       "      <th>...</th>\n",
       "      <th>lat/lng</th>\n",
       "      <th>type_of_shot</th>\n",
       "      <th>type_of_combined_shot</th>\n",
       "      <th>match_id</th>\n",
       "      <th>team_id</th>\n",
       "      <th>remaining_min.1</th>\n",
       "      <th>power_of_shot.1</th>\n",
       "      <th>knockout_match.1</th>\n",
       "      <th>remaining_sec.1</th>\n",
       "      <th>distance_of_shot.1</th>\n",
       "    </tr>\n",
       "  </thead>\n",
       "  <tbody>\n",
       "    <tr>\n",
       "      <th>0</th>\n",
       "      <td>0</td>\n",
       "      <td>10.0</td>\n",
       "      <td>167.0</td>\n",
       "      <td>72.0</td>\n",
       "      <td>10.0</td>\n",
       "      <td>1.0</td>\n",
       "      <td>0.0</td>\n",
       "      <td>2000-01</td>\n",
       "      <td>27.0</td>\n",
       "      <td>38.0</td>\n",
       "      <td>...</td>\n",
       "      <td>45.539131, -122.651648</td>\n",
       "      <td>shot - 30</td>\n",
       "      <td>NaN</td>\n",
       "      <td>20000012</td>\n",
       "      <td>1610612747</td>\n",
       "      <td>10.00</td>\n",
       "      <td>1.0</td>\n",
       "      <td>50.608</td>\n",
       "      <td>54.2000</td>\n",
       "      <td>38.0</td>\n",
       "    </tr>\n",
       "    <tr>\n",
       "      <th>1</th>\n",
       "      <td>1</td>\n",
       "      <td>12.0</td>\n",
       "      <td>-157.0</td>\n",
       "      <td>0.0</td>\n",
       "      <td>10.0</td>\n",
       "      <td>1.0</td>\n",
       "      <td>0.0</td>\n",
       "      <td>2000-01</td>\n",
       "      <td>22.0</td>\n",
       "      <td>35.0</td>\n",
       "      <td>...</td>\n",
       "      <td>45.539131, -122.651648</td>\n",
       "      <td>shot - 45</td>\n",
       "      <td>NaN</td>\n",
       "      <td>20000012</td>\n",
       "      <td>1610612747</td>\n",
       "      <td>10.00</td>\n",
       "      <td>1.0</td>\n",
       "      <td>28.800</td>\n",
       "      <td>22.0000</td>\n",
       "      <td>35.0</td>\n",
       "    </tr>\n",
       "    <tr>\n",
       "      <th>2</th>\n",
       "      <td>2</td>\n",
       "      <td>35.0</td>\n",
       "      <td>-101.0</td>\n",
       "      <td>135.0</td>\n",
       "      <td>7.0</td>\n",
       "      <td>1.0</td>\n",
       "      <td>0.0</td>\n",
       "      <td>2000-01</td>\n",
       "      <td>45.0</td>\n",
       "      <td>36.0</td>\n",
       "      <td>...</td>\n",
       "      <td>45.539131, -122.651648</td>\n",
       "      <td>shot - 25</td>\n",
       "      <td>NaN</td>\n",
       "      <td>20000012</td>\n",
       "      <td>1610612747</td>\n",
       "      <td>92.64</td>\n",
       "      <td>1.0</td>\n",
       "      <td>0.000</td>\n",
       "      <td>63.7216</td>\n",
       "      <td>54.4</td>\n",
       "    </tr>\n",
       "    <tr>\n",
       "      <th>3</th>\n",
       "      <td>3</td>\n",
       "      <td>43.0</td>\n",
       "      <td>138.0</td>\n",
       "      <td>175.0</td>\n",
       "      <td>6.0</td>\n",
       "      <td>1.0</td>\n",
       "      <td>0.0</td>\n",
       "      <td>2000-01</td>\n",
       "      <td>52.0</td>\n",
       "      <td>42.0</td>\n",
       "      <td>...</td>\n",
       "      <td>45.539131, -122.651648</td>\n",
       "      <td>NaN</td>\n",
       "      <td>shot - 3</td>\n",
       "      <td>20000012</td>\n",
       "      <td>1610612747</td>\n",
       "      <td>NaN</td>\n",
       "      <td>1.0</td>\n",
       "      <td>122.608</td>\n",
       "      <td>52.0000</td>\n",
       "      <td>42.0</td>\n",
       "    </tr>\n",
       "    <tr>\n",
       "      <th>4</th>\n",
       "      <td>4</td>\n",
       "      <td>155.0</td>\n",
       "      <td>0.0</td>\n",
       "      <td>0.0</td>\n",
       "      <td>NaN</td>\n",
       "      <td>2.0</td>\n",
       "      <td>0.0</td>\n",
       "      <td>2000-01</td>\n",
       "      <td>19.0</td>\n",
       "      <td>20.0</td>\n",
       "      <td>...</td>\n",
       "      <td>45.539131, -122.651648</td>\n",
       "      <td>NaN</td>\n",
       "      <td>shot - 1</td>\n",
       "      <td>20000012</td>\n",
       "      <td>1610612747</td>\n",
       "      <td>42.64</td>\n",
       "      <td>2.0</td>\n",
       "      <td>0.000</td>\n",
       "      <td>19.0000</td>\n",
       "      <td>20.0</td>\n",
       "    </tr>\n",
       "  </tbody>\n",
       "</table>\n",
       "<p>5 rows × 28 columns</p>\n",
       "</div>"
      ],
      "text/plain": [
       "   Unnamed: 0  match_event_id  location_x  location_y  remaining_min  \\\n",
       "0           0            10.0       167.0        72.0           10.0   \n",
       "1           1            12.0      -157.0         0.0           10.0   \n",
       "2           2            35.0      -101.0       135.0            7.0   \n",
       "3           3            43.0       138.0       175.0            6.0   \n",
       "4           4           155.0         0.0         0.0            NaN   \n",
       "\n",
       "   power_of_shot  knockout_match game_season  remaining_sec  distance_of_shot  \\\n",
       "0            1.0             0.0     2000-01           27.0              38.0   \n",
       "1            1.0             0.0     2000-01           22.0              35.0   \n",
       "2            1.0             0.0     2000-01           45.0              36.0   \n",
       "3            1.0             0.0     2000-01           52.0              42.0   \n",
       "4            2.0             0.0     2000-01           19.0              20.0   \n",
       "\n",
       "   ...                 lat/lng type_of_shot type_of_combined_shot  match_id  \\\n",
       "0  ...  45.539131, -122.651648    shot - 30                   NaN  20000012   \n",
       "1  ...  45.539131, -122.651648    shot - 45                   NaN  20000012   \n",
       "2  ...  45.539131, -122.651648    shot - 25                   NaN  20000012   \n",
       "3  ...  45.539131, -122.651648          NaN              shot - 3  20000012   \n",
       "4  ...  45.539131, -122.651648          NaN              shot - 1  20000012   \n",
       "\n",
       "      team_id remaining_min.1 power_of_shot.1  knockout_match.1  \\\n",
       "0  1610612747           10.00             1.0            50.608   \n",
       "1  1610612747           10.00             1.0            28.800   \n",
       "2  1610612747           92.64             1.0             0.000   \n",
       "3  1610612747             NaN             1.0           122.608   \n",
       "4  1610612747           42.64             2.0             0.000   \n",
       "\n",
       "  remaining_sec.1 distance_of_shot.1  \n",
       "0         54.2000               38.0  \n",
       "1         22.0000               35.0  \n",
       "2         63.7216               54.4  \n",
       "3         52.0000               42.0  \n",
       "4         19.0000               20.0  \n",
       "\n",
       "[5 rows x 28 columns]"
      ]
     },
     "execution_count": 86,
     "metadata": {},
     "output_type": "execute_result"
    }
   ],
   "source": [
    "df2.head()"
   ]
  },
  {
   "cell_type": "code",
   "execution_count": 89,
   "id": "8b72970c",
   "metadata": {},
   "outputs": [
    {
     "data": {
      "text/html": [
       "<div>\n",
       "<style scoped>\n",
       "    .dataframe tbody tr th:only-of-type {\n",
       "        vertical-align: middle;\n",
       "    }\n",
       "\n",
       "    .dataframe tbody tr th {\n",
       "        vertical-align: top;\n",
       "    }\n",
       "\n",
       "    .dataframe thead th {\n",
       "        text-align: right;\n",
       "    }\n",
       "</style>\n",
       "<table border=\"1\" class=\"dataframe\">\n",
       "  <thead>\n",
       "    <tr style=\"text-align: right;\">\n",
       "      <th></th>\n",
       "      <th>Unnamed: 0</th>\n",
       "      <th>match_event_id</th>\n",
       "      <th>location_x</th>\n",
       "      <th>location_y</th>\n",
       "      <th>remaining_min</th>\n",
       "      <th>power_of_shot</th>\n",
       "      <th>knockout_match</th>\n",
       "      <th>game_season</th>\n",
       "      <th>remaining_sec</th>\n",
       "      <th>distance_of_shot</th>\n",
       "      <th>...</th>\n",
       "      <th>lat/lng</th>\n",
       "      <th>type_of_shot</th>\n",
       "      <th>type_of_combined_shot</th>\n",
       "      <th>match_id</th>\n",
       "      <th>team_id</th>\n",
       "      <th>remaining_min.1</th>\n",
       "      <th>power_of_shot.1</th>\n",
       "      <th>knockout_match.1</th>\n",
       "      <th>remaining_sec.1</th>\n",
       "      <th>distance_of_shot.1</th>\n",
       "    </tr>\n",
       "  </thead>\n",
       "  <tbody>\n",
       "    <tr>\n",
       "      <th>0</th>\n",
       "      <td>0</td>\n",
       "      <td>10.0</td>\n",
       "      <td>167.0</td>\n",
       "      <td>72.0</td>\n",
       "      <td>10.0</td>\n",
       "      <td>1.0</td>\n",
       "      <td>0.0</td>\n",
       "      <td>2000-01</td>\n",
       "      <td>27.0</td>\n",
       "      <td>38.0</td>\n",
       "      <td>...</td>\n",
       "      <td>45.539131, -122.651648</td>\n",
       "      <td>shot - 30</td>\n",
       "      <td>NaN</td>\n",
       "      <td>20000012</td>\n",
       "      <td>1610612747</td>\n",
       "      <td>10.00</td>\n",
       "      <td>1.0</td>\n",
       "      <td>50.608</td>\n",
       "      <td>54.2000</td>\n",
       "      <td>38.0</td>\n",
       "    </tr>\n",
       "    <tr>\n",
       "      <th>1</th>\n",
       "      <td>1</td>\n",
       "      <td>12.0</td>\n",
       "      <td>-157.0</td>\n",
       "      <td>0.0</td>\n",
       "      <td>10.0</td>\n",
       "      <td>1.0</td>\n",
       "      <td>0.0</td>\n",
       "      <td>2000-01</td>\n",
       "      <td>22.0</td>\n",
       "      <td>35.0</td>\n",
       "      <td>...</td>\n",
       "      <td>45.539131, -122.651648</td>\n",
       "      <td>shot - 45</td>\n",
       "      <td>NaN</td>\n",
       "      <td>20000012</td>\n",
       "      <td>1610612747</td>\n",
       "      <td>10.00</td>\n",
       "      <td>1.0</td>\n",
       "      <td>28.800</td>\n",
       "      <td>22.0000</td>\n",
       "      <td>35.0</td>\n",
       "    </tr>\n",
       "    <tr>\n",
       "      <th>2</th>\n",
       "      <td>2</td>\n",
       "      <td>35.0</td>\n",
       "      <td>-101.0</td>\n",
       "      <td>135.0</td>\n",
       "      <td>7.0</td>\n",
       "      <td>1.0</td>\n",
       "      <td>0.0</td>\n",
       "      <td>2000-01</td>\n",
       "      <td>45.0</td>\n",
       "      <td>36.0</td>\n",
       "      <td>...</td>\n",
       "      <td>45.539131, -122.651648</td>\n",
       "      <td>shot - 25</td>\n",
       "      <td>NaN</td>\n",
       "      <td>20000012</td>\n",
       "      <td>1610612747</td>\n",
       "      <td>92.64</td>\n",
       "      <td>1.0</td>\n",
       "      <td>0.000</td>\n",
       "      <td>63.7216</td>\n",
       "      <td>54.4</td>\n",
       "    </tr>\n",
       "    <tr>\n",
       "      <th>3</th>\n",
       "      <td>3</td>\n",
       "      <td>43.0</td>\n",
       "      <td>138.0</td>\n",
       "      <td>175.0</td>\n",
       "      <td>6.0</td>\n",
       "      <td>1.0</td>\n",
       "      <td>0.0</td>\n",
       "      <td>2000-01</td>\n",
       "      <td>52.0</td>\n",
       "      <td>42.0</td>\n",
       "      <td>...</td>\n",
       "      <td>45.539131, -122.651648</td>\n",
       "      <td>NaN</td>\n",
       "      <td>shot - 3</td>\n",
       "      <td>20000012</td>\n",
       "      <td>1610612747</td>\n",
       "      <td>NaN</td>\n",
       "      <td>1.0</td>\n",
       "      <td>122.608</td>\n",
       "      <td>52.0000</td>\n",
       "      <td>42.0</td>\n",
       "    </tr>\n",
       "    <tr>\n",
       "      <th>4</th>\n",
       "      <td>4</td>\n",
       "      <td>155.0</td>\n",
       "      <td>0.0</td>\n",
       "      <td>0.0</td>\n",
       "      <td>NaN</td>\n",
       "      <td>2.0</td>\n",
       "      <td>0.0</td>\n",
       "      <td>2000-01</td>\n",
       "      <td>19.0</td>\n",
       "      <td>20.0</td>\n",
       "      <td>...</td>\n",
       "      <td>45.539131, -122.651648</td>\n",
       "      <td>NaN</td>\n",
       "      <td>shot - 1</td>\n",
       "      <td>20000012</td>\n",
       "      <td>1610612747</td>\n",
       "      <td>42.64</td>\n",
       "      <td>2.0</td>\n",
       "      <td>0.000</td>\n",
       "      <td>19.0000</td>\n",
       "      <td>20.0</td>\n",
       "    </tr>\n",
       "  </tbody>\n",
       "</table>\n",
       "<p>5 rows × 28 columns</p>\n",
       "</div>"
      ],
      "text/plain": [
       "   Unnamed: 0  match_event_id  location_x  location_y  remaining_min  \\\n",
       "0           0            10.0       167.0        72.0           10.0   \n",
       "1           1            12.0      -157.0         0.0           10.0   \n",
       "2           2            35.0      -101.0       135.0            7.0   \n",
       "3           3            43.0       138.0       175.0            6.0   \n",
       "4           4           155.0         0.0         0.0            NaN   \n",
       "\n",
       "   power_of_shot  knockout_match game_season  remaining_sec  distance_of_shot  \\\n",
       "0            1.0             0.0     2000-01           27.0              38.0   \n",
       "1            1.0             0.0     2000-01           22.0              35.0   \n",
       "2            1.0             0.0     2000-01           45.0              36.0   \n",
       "3            1.0             0.0     2000-01           52.0              42.0   \n",
       "4            2.0             0.0     2000-01           19.0              20.0   \n",
       "\n",
       "   ...                 lat/lng type_of_shot type_of_combined_shot  match_id  \\\n",
       "0  ...  45.539131, -122.651648    shot - 30                   NaN  20000012   \n",
       "1  ...  45.539131, -122.651648    shot - 45                   NaN  20000012   \n",
       "2  ...  45.539131, -122.651648    shot - 25                   NaN  20000012   \n",
       "3  ...  45.539131, -122.651648          NaN              shot - 3  20000012   \n",
       "4  ...  45.539131, -122.651648          NaN              shot - 1  20000012   \n",
       "\n",
       "      team_id remaining_min.1 power_of_shot.1  knockout_match.1  \\\n",
       "0  1610612747           10.00             1.0            50.608   \n",
       "1  1610612747           10.00             1.0            28.800   \n",
       "2  1610612747           92.64             1.0             0.000   \n",
       "3  1610612747             NaN             1.0           122.608   \n",
       "4  1610612747           42.64             2.0             0.000   \n",
       "\n",
       "  remaining_sec.1 distance_of_shot.1  \n",
       "0         54.2000               38.0  \n",
       "1         22.0000               35.0  \n",
       "2         63.7216               54.4  \n",
       "3         52.0000               42.0  \n",
       "4         19.0000               20.0  \n",
       "\n",
       "[5 rows x 28 columns]"
      ]
     },
     "execution_count": 89,
     "metadata": {},
     "output_type": "execute_result"
    }
   ],
   "source": [
    "df.head()"
   ]
  },
  {
   "cell_type": "code",
   "execution_count": null,
   "id": "b6e2e977",
   "metadata": {},
   "outputs": [
    {
     "data": {
      "application/vnd.jupyter.widget-view+json": {
       "model_id": "dbf564eec2b0401595993a23c955e69d",
       "version_major": 2,
       "version_minor": 0
      },
      "text/plain": [
       "Summarize dataset:   0%|          | 0/5 [00:00<?, ?it/s]"
      ]
     },
     "metadata": {},
     "output_type": "display_data"
    }
   ],
   "source": [
    "pf=df.profile_report()\n",
    "pf"
   ]
  },
  {
   "cell_type": "code",
   "execution_count": null,
   "id": "81a44951",
   "metadata": {},
   "outputs": [],
   "source": [
    "df.shape"
   ]
  },
  {
   "cell_type": "markdown",
   "id": "c36f7569",
   "metadata": {},
   "source": [
    "# A. Data Preprocessing"
   ]
  },
  {
   "cell_type": "markdown",
   "id": "a29be43a",
   "metadata": {},
   "source": [
    "# 1. Exploring the Columns of Dataset"
   ]
  },
  {
   "cell_type": "code",
   "execution_count": null,
   "id": "d08c61fa",
   "metadata": {},
   "outputs": [],
   "source": [
    "df.describe()"
   ]
  },
  {
   "cell_type": "code",
   "execution_count": null,
   "id": "c95cf053",
   "metadata": {},
   "outputs": [],
   "source": [
    "df.info()"
   ]
  },
  {
   "cell_type": "code",
   "execution_count": null,
   "id": "1e3755ce",
   "metadata": {},
   "outputs": [],
   "source": [
    "df.columns"
   ]
  },
  {
   "cell_type": "code",
   "execution_count": null,
   "id": "7fbbcca0",
   "metadata": {},
   "outputs": [],
   "source": [
    "df['area_of_shot'].unique"
   ]
  },
  {
   "cell_type": "markdown",
   "id": "b7881c14",
   "metadata": {},
   "source": [
    "# 2. Checking for Missing Values"
   ]
  },
  {
   "cell_type": "code",
   "execution_count": null,
   "id": "f47d0e15",
   "metadata": {},
   "outputs": [],
   "source": [
    "df.shape"
   ]
  },
  {
   "cell_type": "code",
   "execution_count": null,
   "id": "5e901d66",
   "metadata": {},
   "outputs": [],
   "source": [
    "df.shape[0]"
   ]
  },
  {
   "cell_type": "code",
   "execution_count": null,
   "id": "9dfc5cf1",
   "metadata": {},
   "outputs": [],
   "source": [
    "missing_data=pd.DataFrame({'Total_count':df.isnull().sum(),'Percentage':(df.isnull().sum()/df.shape[0])*100})\n",
    "missing_data"
   ]
  },
  {
   "cell_type": "code",
   "execution_count": null,
   "id": "f4eedaa6",
   "metadata": {},
   "outputs": [],
   "source": [
    "df.columns"
   ]
  },
  {
   "cell_type": "code",
   "execution_count": null,
   "id": "1355d063",
   "metadata": {},
   "outputs": [],
   "source": [
    "df.is_goal.value_counts()"
   ]
  },
  {
   "cell_type": "code",
   "execution_count": null,
   "id": "c5ad5a24",
   "metadata": {},
   "outputs": [],
   "source": [
    "df.drop([\"Unnamed: 0\",  'remaining_min.1', 'power_of_shot.1','knockout_match.1', 'remaining_sec.1', 'distance_of_shot.1'], axis=1, inplace=True)"
   ]
  },
  {
   "cell_type": "code",
   "execution_count": null,
   "id": "451b9a46",
   "metadata": {},
   "outputs": [],
   "source": [
    "#2. Changing dtypes to datetime\n",
    "df.date_of_game = pd.to_datetime(df.date_of_game, errors='coerce')\n",
    "df['game_season'] = df['game_season'].astype('object')\n",
    "df['game_season']"
   ]
  },
  {
   "cell_type": "code",
   "execution_count": null,
   "id": "7055b774",
   "metadata": {},
   "outputs": [],
   "source": [
    "df['game_season'].dtype"
   ]
  },
  {
   "cell_type": "code",
   "execution_count": null,
   "id": "7ae40c39",
   "metadata": {},
   "outputs": [],
   "source": [
    "l_unique=df['game_season'].unique()\n",
    "l_unique"
   ]
  },
  {
   "cell_type": "code",
   "execution_count": null,
   "id": "67168fc4",
   "metadata": {},
   "outputs": [],
   "source": [
    "v_unique = np.arange(len(l_unique)) # obtaining values in the range of the length of I_unique\n",
    "v_unique"
   ]
  },
  {
   "cell_type": "code",
   "execution_count": null,
   "id": "1fdc9a84",
   "metadata": {},
   "outputs": [],
   "source": [
    "df['game_season'].head()"
   ]
  },
  {
   "cell_type": "code",
   "execution_count": null,
   "id": "dca1aefe",
   "metadata": {},
   "outputs": [],
   "source": [
    "df['game_season'].replace(to_replace=l_unique, value=v_unique, inplace=True) # replacing categorical data with numerical values\n",
    "df['game_season'].head()"
   ]
  },
  {
   "cell_type": "code",
   "execution_count": null,
   "id": "b77d8e93",
   "metadata": {},
   "outputs": [],
   "source": [
    "df['game_season'] = df['game_season'].astype('int') # converting the datatype of the column from int64 to int32\n",
    "df['game_season'].head()"
   ]
  },
  {
   "cell_type": "code",
   "execution_count": null,
   "id": "1e5ad728",
   "metadata": {},
   "outputs": [],
   "source": [
    "df2.isnull().sum()"
   ]
  },
  {
   "cell_type": "markdown",
   "id": "856fb086",
   "metadata": {},
   "source": [
    "# handling missing value"
   ]
  },
  {
   "cell_type": "code",
   "execution_count": 45,
   "id": "06d13b3c",
   "metadata": {},
   "outputs": [],
   "source": [
    "df['power_of_shot']=df['power_of_shot'].isnull()"
   ]
  },
  {
   "cell_type": "code",
   "execution_count": 59,
   "id": "9ded7cb9",
   "metadata": {},
   "outputs": [
    {
     "data": {
      "text/plain": [
       "0"
      ]
     },
     "execution_count": 59,
     "metadata": {},
     "output_type": "execute_result"
    }
   ],
   "source": [
    "df['power_of_shot'].isnull().sum()"
   ]
  }
 ],
 "metadata": {
  "kernelspec": {
   "display_name": "Python 3 (ipykernel)",
   "language": "python",
   "name": "python3"
  },
  "language_info": {
   "codemirror_mode": {
    "name": "ipython",
    "version": 3
   },
   "file_extension": ".py",
   "mimetype": "text/x-python",
   "name": "python",
   "nbconvert_exporter": "python",
   "pygments_lexer": "ipython3",
   "version": "3.9.7"
  }
 },
 "nbformat": 4,
 "nbformat_minor": 5
}
